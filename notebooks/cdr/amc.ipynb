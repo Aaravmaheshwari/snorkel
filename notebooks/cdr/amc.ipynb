{
 "cells": [
  {
   "cell_type": "code",
   "execution_count": 1,
   "metadata": {},
   "outputs": [],
   "source": [
    "import numpy as np\n",
    "import scipy\n",
    "import scipy.sparse"
   ]
  },
  {
   "cell_type": "code",
   "execution_count": 2,
   "metadata": {},
   "outputs": [],
   "source": [
    "Y = scipy.sparse.load_npz('Y_dev.npz')\n",
    "L = scipy.sparse.load_npz('L_dev.npz')"
   ]
  },
  {
   "cell_type": "code",
   "execution_count": 3,
   "metadata": {},
   "outputs": [],
   "source": [
    "Y_dense = Y.todense()\n",
    "L_dense = L.todense()"
   ]
  },
  {
   "cell_type": "code",
   "execution_count": 4,
   "metadata": {},
   "outputs": [
    {
     "name": "stdout",
     "output_type": "stream",
     "text": [
      "(920, 1)\n"
     ]
    }
   ],
   "source": [
    "print(Y_dense.shape)"
   ]
  },
  {
   "cell_type": "code",
   "execution_count": 5,
   "metadata": {},
   "outputs": [
    {
     "name": "stdout",
     "output_type": "stream",
     "text": [
      "(920, 33)\n"
     ]
    }
   ],
   "source": [
    "print(L.shape)\n",
    "m = L.shape[1]"
   ]
  },
  {
   "cell_type": "code",
   "execution_count": 6,
   "metadata": {},
   "outputs": [],
   "source": [
    "O = L.T @ L\n"
   ]
  },
  {
   "cell_type": "code",
   "execution_count": 7,
   "metadata": {},
   "outputs": [
    {
     "name": "stderr",
     "output_type": "stream",
     "text": [
      "/lfs/1/annhe/anaconda3/envs/snorkel/lib/python3.6/site-packages/scipy/sparse/compressed.py:226: SparseEfficiencyWarning: Comparing sparse matrices using == is inefficient, try using != instead.\n",
      "  \" != instead.\", SparseEfficiencyWarning)\n"
     ]
    }
   ],
   "source": [
    "accuracies = np.array([np.mean(L[:,i] == Y) for i in range(m)])\n",
    "mu_true = 2*accuracies - 1"
   ]
  },
  {
   "cell_type": "code",
   "execution_count": 8,
   "metadata": {},
   "outputs": [
    {
     "name": "stdout",
     "output_type": "stream",
     "text": [
      "[-0.95217391 -0.97608696 -0.99782609 -0.95652174 -0.8826087  -0.70869565\n",
      " -0.9826087  -0.97608696 -0.97391304 -0.93478261 -0.91956522 -0.97826087\n",
      " -1.         -0.94782609 -0.97608696 -0.94565217 -1.         -0.77608696\n",
      " -0.87608696 -0.98695652 -0.57173913 -0.33913043 -1.         -0.87608696\n",
      " -0.99782609 -0.93913043 -0.97391304 -1.         -0.98695652 -0.99782609\n",
      " -0.97608696 -0.95       -0.84782609]\n"
     ]
    }
   ],
   "source": [
    "print(mu_true)"
   ]
  },
  {
   "cell_type": "code",
   "execution_count": 9,
   "metadata": {},
   "outputs": [
    {
     "name": "stdout",
     "output_type": "stream",
     "text": [
      "(33,)\n"
     ]
    }
   ],
   "source": [
    "print(mu_true.shape)"
   ]
  },
  {
   "cell_type": "code",
   "execution_count": 10,
   "metadata": {},
   "outputs": [
    {
     "name": "stdout",
     "output_type": "stream",
     "text": [
      "[ 0.02391304  0.01195652  0.00108696  0.02173913  0.05869565  0.14565217\n",
      "  0.00869565  0.01195652  0.01304348  0.0326087   0.04021739  0.01086957\n",
      "  0.          0.02608696  0.01195652  0.02717391  0.          0.11195652\n",
      "  0.06195652  0.00652174  0.21413043  0.33043478  0.          0.06195652\n",
      "  0.00108696  0.03043478  0.01304348  0.          0.00652174  0.00108696\n",
      "  0.01195652  0.025       0.07608696]\n"
     ]
    }
   ],
   "source": [
    "print(accuracies)"
   ]
  },
  {
   "cell_type": "code",
   "execution_count": 11,
   "metadata": {},
   "outputs": [
    {
     "name": "stdout",
     "output_type": "stream",
     "text": [
      "  (0, 0)\t1\n",
      "  (1, 0)\t1\n",
      "  (2, 0)\t-1\n",
      "  (3, 0)\t-1\n",
      "  (4, 0)\t-1\n",
      "  (5, 0)\t-1\n",
      "  (6, 0)\t-1\n",
      "  (7, 0)\t1\n",
      "  (8, 0)\t1\n",
      "  (9, 0)\t1\n",
      "  (10, 0)\t1\n",
      "  (11, 0)\t1\n",
      "  (12, 0)\t-1\n",
      "  (13, 0)\t1\n",
      "  (14, 0)\t-1\n",
      "  (15, 0)\t-1\n",
      "  (16, 0)\t-1\n",
      "  (17, 0)\t-1\n",
      "  (18, 0)\t-1\n",
      "  (19, 0)\t1\n",
      "  (20, 0)\t1\n",
      "  (21, 0)\t1\n",
      "  (22, 0)\t1\n",
      "  (23, 0)\t1\n",
      "  (24, 0)\t1\n",
      "  :\t:\n",
      "  (895, 0)\t-1\n",
      "  (896, 0)\t-1\n",
      "  (897, 0)\t-1\n",
      "  (898, 0)\t-1\n",
      "  (899, 0)\t-1\n",
      "  (900, 0)\t-1\n",
      "  (901, 0)\t1\n",
      "  (902, 0)\t1\n",
      "  (903, 0)\t-1\n",
      "  (904, 0)\t-1\n",
      "  (905, 0)\t1\n",
      "  (906, 0)\t-1\n",
      "  (907, 0)\t-1\n",
      "  (908, 0)\t-1\n",
      "  (909, 0)\t1\n",
      "  (910, 0)\t-1\n",
      "  (911, 0)\t-1\n",
      "  (912, 0)\t1\n",
      "  (913, 0)\t-1\n",
      "  (914, 0)\t-1\n",
      "  (915, 0)\t-1\n",
      "  (916, 0)\t-1\n",
      "  (917, 0)\t-1\n",
      "  (918, 0)\t-1\n",
      "  (919, 0)\t1\n"
     ]
    }
   ],
   "source": [
    "print(Y)"
   ]
  },
  {
   "cell_type": "code",
   "execution_count": 12,
   "metadata": {},
   "outputs": [
    {
     "name": "stdout",
     "output_type": "stream",
     "text": [
      "[ 0.02391304  0.01195652  0.00108696  0.02173913  0.05869565  0.14565217\n",
      "  0.00869565  0.01195652  0.01304348  0.0326087   0.04021739  0.01086957\n",
      "  0.          0.02608696  0.01195652  0.02717391  0.          0.11195652\n",
      "  0.06195652  0.00652174  0.21413043  0.33043478  0.          0.06195652\n",
      "  0.00108696  0.03043478  0.01304348  0.          0.00652174  0.00108696\n",
      "  0.01195652  0.025       0.07608696]\n"
     ]
    }
   ],
   "source": [
    "accuracies = np.array([np.mean(L_dense[:,i] == Y_dense) for i in range(m)])\n",
    "mu_true = 2*accuracies - 1\n",
    "print(accuracies)"
   ]
  }
 ],
 "metadata": {
  "kernelspec": {
   "display_name": "Python (snorkel)",
   "language": "python",
   "name": "snorkel"
  },
  "language_info": {
   "codemirror_mode": {
    "name": "ipython",
    "version": 3
   },
   "file_extension": ".py",
   "mimetype": "text/x-python",
   "name": "python",
   "nbconvert_exporter": "python",
   "pygments_lexer": "ipython3",
   "version": "3.6.6"
  }
 },
 "nbformat": 4,
 "nbformat_minor": 2
}
